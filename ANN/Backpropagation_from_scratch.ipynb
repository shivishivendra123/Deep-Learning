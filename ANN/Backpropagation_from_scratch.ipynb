{
 "cells": [
  {
   "cell_type": "code",
   "execution_count": 2,
   "metadata": {},
   "outputs": [],
   "source": [
    "import pandas as pd\n",
    "import numpy as np\n"
   ]
  },
  {
   "cell_type": "code",
   "execution_count": 6,
   "metadata": {},
   "outputs": [],
   "source": [
    "df = pd.DataFrame([[8,8,4],[7,9,5],[6,10,6],[5,12,7]], columns=['cgpa', 'profile_score', 'lpa'])"
   ]
  },
  {
   "cell_type": "code",
   "execution_count": 8,
   "metadata": {},
   "outputs": [
    {
     "data": {
      "text/html": [
       "<div>\n",
       "<style scoped>\n",
       "    .dataframe tbody tr th:only-of-type {\n",
       "        vertical-align: middle;\n",
       "    }\n",
       "\n",
       "    .dataframe tbody tr th {\n",
       "        vertical-align: top;\n",
       "    }\n",
       "\n",
       "    .dataframe thead th {\n",
       "        text-align: right;\n",
       "    }\n",
       "</style>\n",
       "<table border=\"1\" class=\"dataframe\">\n",
       "  <thead>\n",
       "    <tr style=\"text-align: right;\">\n",
       "      <th></th>\n",
       "      <th>cgpa</th>\n",
       "      <th>profile_score</th>\n",
       "      <th>lpa</th>\n",
       "    </tr>\n",
       "  </thead>\n",
       "  <tbody>\n",
       "    <tr>\n",
       "      <th>0</th>\n",
       "      <td>8</td>\n",
       "      <td>8</td>\n",
       "      <td>4</td>\n",
       "    </tr>\n",
       "    <tr>\n",
       "      <th>1</th>\n",
       "      <td>7</td>\n",
       "      <td>9</td>\n",
       "      <td>5</td>\n",
       "    </tr>\n",
       "    <tr>\n",
       "      <th>2</th>\n",
       "      <td>6</td>\n",
       "      <td>10</td>\n",
       "      <td>6</td>\n",
       "    </tr>\n",
       "    <tr>\n",
       "      <th>3</th>\n",
       "      <td>5</td>\n",
       "      <td>12</td>\n",
       "      <td>7</td>\n",
       "    </tr>\n",
       "  </tbody>\n",
       "</table>\n",
       "</div>"
      ],
      "text/plain": [
       "   cgpa  profile_score  lpa\n",
       "0     8              8    4\n",
       "1     7              9    5\n",
       "2     6             10    6\n",
       "3     5             12    7"
      ]
     },
     "execution_count": 8,
     "metadata": {},
     "output_type": "execute_result"
    }
   ],
   "source": [
    "df"
   ]
  },
  {
   "cell_type": "code",
   "execution_count": 9,
   "metadata": {},
   "outputs": [],
   "source": [
    "def initialize_parameters(layer_dims):\n",
    "  \n",
    "  np.random.seed(3)\n",
    "  parameters = {}\n",
    "  L = len(layer_dims)         \n",
    "\n",
    "  for l in range(1, L):\n",
    "\n",
    "    parameters['W' + str(l)] = np.ones((layer_dims[l-1], layer_dims[l]))*0.1\n",
    "    parameters['b' + str(l)] = np.zeros((layer_dims[l], 1))\n",
    "      \n",
    "\n",
    "  return parameters"
   ]
  },
  {
   "cell_type": "code",
   "execution_count": 10,
   "metadata": {},
   "outputs": [
    {
     "data": {
      "text/plain": [
       "{'W1': array([[0.1, 0.1],\n",
       "        [0.1, 0.1]]),\n",
       " 'b1': array([[0.],\n",
       "        [0.]]),\n",
       " 'W2': array([[0.1],\n",
       "        [0.1]]),\n",
       " 'b2': array([[0.]])}"
      ]
     },
     "execution_count": 10,
     "metadata": {},
     "output_type": "execute_result"
    }
   ],
   "source": [
    "initialize_parameters([2,2,1])"
   ]
  },
  {
   "cell_type": "code",
   "execution_count": 22,
   "metadata": {},
   "outputs": [],
   "source": [
    "def linear_forward(A_prev, W, b):\n",
    "  \n",
    "  Z = np.dot(W.T, A_prev) + b\n",
    "  \n",
    "  return Z"
   ]
  },
  {
   "cell_type": "code",
   "execution_count": 39,
   "metadata": {},
   "outputs": [],
   "source": [
    "# Forward Prop\n",
    "def L_layer_forward(X, parameters):\n",
    "\n",
    "  A = X\n",
    "  L = len(parameters) // 2 # number of layers in the neural network\n",
    "  \n",
    "  for l in range(1, L+1):\n",
    "    A_prev = A \n",
    "    Wl = parameters['W' + str(l)]\n",
    "    bl = parameters['b' + str(l)]\n",
    "    #print(\"A\"+str(l-1)+\": \", A_prev)\n",
    "    #print(\"W\"+str(l)+\": \", Wl)\n",
    "    #print(\"b\"+str(l)+\": \", bl)\n",
    "    #print(\"--\"*20)\n",
    "\n",
    "    A = linear_forward(A_prev, Wl, bl)\n",
    "    #print(\"A\"+str(l)+\": \", A)\n",
    "    #print(\"**\"*20)\n",
    "          \n",
    "  return A,A_prev"
   ]
  },
  {
   "cell_type": "code",
   "execution_count": 23,
   "metadata": {},
   "outputs": [
    {
     "name": "stdout",
     "output_type": "stream",
     "text": [
      "2\n"
     ]
    }
   ],
   "source": [
    "X = df[['cgpa', 'profile_score']].values[0].reshape(2,1) # Shape(no of features, no. of training example)\n",
    "y = df[['lpa']].values[0][0]\n",
    "\n",
    "# Parameter initialization\n",
    "parameters = initialize_parameters([2,2,1])\n",
    "\n",
    "y_hat,A1 = L_layer_forward(X, parameters)"
   ]
  },
  {
   "cell_type": "code",
   "execution_count": 16,
   "metadata": {},
   "outputs": [
    {
     "data": {
      "text/plain": [
       "(array([[0.32]]),\n",
       " array([[1.6],\n",
       "        [1.6]]))"
      ]
     },
     "execution_count": 16,
     "metadata": {},
     "output_type": "execute_result"
    }
   ],
   "source": [
    "y_hat,A1"
   ]
  },
  {
   "cell_type": "code",
   "execution_count": 46,
   "metadata": {},
   "outputs": [],
   "source": [
    "def update_parameters(parameters, y, y_hat, A1, X):\n",
    "    learning_rate = 0.001\n",
    "\n",
    "    # Compute gradients for W2 and b2\n",
    "    dW2_0 = 2 * (y - y_hat) * A1[0][0]\n",
    "    dW2_1 = 2 * (y - y_hat) * A1[1][0]\n",
    "    db2 = 2 * (y - y_hat)\n",
    "\n",
    "    # Compute gradients for W1 and b1\n",
    "    dW1_00 = 2 * (y - y_hat) * parameters['W2'][0][0] * X[0][0]\n",
    "    dW1_01 = 2 * (y - y_hat) * parameters['W2'][0][0] * X[1][0]\n",
    "    db1_0 = 2 * (y - y_hat) * parameters['W2'][0][0]\n",
    "\n",
    "    dW1_10 = 2 * (y - y_hat) * parameters['W2'][1][0] * X[0][0]\n",
    "    dW1_11 = 2 * (y - y_hat) * parameters['W2'][1][0] * X[1][0]\n",
    "    db1_1 = 2 * (y - y_hat) * parameters['W2'][1][0]\n",
    "\n",
    "    # Update W2 and b2\n",
    "    parameters['W2'][0][0] += learning_rate * dW2_0\n",
    "    parameters['W2'][1][0] += learning_rate * dW2_1\n",
    "    parameters['b2'][0][0] += learning_rate * db2\n",
    "\n",
    "    # Update W1 and b1\n",
    "    parameters['W1'][0][0] += learning_rate * dW1_00\n",
    "    parameters['W1'][0][1] += learning_rate * dW1_01\n",
    "    parameters['b1'][0][0] += learning_rate * db1_0\n",
    "\n",
    "    parameters['W1'][1][0] += learning_rate * dW1_10\n",
    "    parameters['W1'][1][1] += learning_rate * dW1_11\n",
    "    parameters['b1'][1][0] += learning_rate * db1_1\n",
    "\n",
    "    return parameters"
   ]
  },
  {
   "cell_type": "code",
   "execution_count": 25,
   "metadata": {},
   "outputs": [
    {
     "name": "stderr",
     "output_type": "stream",
     "text": [
      "/var/folders/qx/720g_1z55gg_fwcvggbhs3_w0000gn/T/ipykernel_4628/332058445.py:2: DeprecationWarning: Conversion of an array with ndim > 0 to a scalar is deprecated, and will error in future. Ensure you extract a single element from your array before performing this operation. (Deprecated NumPy 1.25.)\n",
      "  parameters['W2'][0][0] = parameters['W2'][0][0] + (0.001 * 2 * (y - y_hat)*A1[0][0])\n",
      "/var/folders/qx/720g_1z55gg_fwcvggbhs3_w0000gn/T/ipykernel_4628/332058445.py:3: DeprecationWarning: Conversion of an array with ndim > 0 to a scalar is deprecated, and will error in future. Ensure you extract a single element from your array before performing this operation. (Deprecated NumPy 1.25.)\n",
      "  parameters['W2'][1][0] = parameters['W2'][1][0] + (0.001 * 2 * (y - y_hat)*A1[1][0])\n",
      "/var/folders/qx/720g_1z55gg_fwcvggbhs3_w0000gn/T/ipykernel_4628/332058445.py:4: DeprecationWarning: Conversion of an array with ndim > 0 to a scalar is deprecated, and will error in future. Ensure you extract a single element from your array before performing this operation. (Deprecated NumPy 1.25.)\n",
      "  parameters['b2'][0][0] = parameters['W2'][1][0] + (0.001 * 2 * (y - y_hat))\n",
      "/var/folders/qx/720g_1z55gg_fwcvggbhs3_w0000gn/T/ipykernel_4628/332058445.py:6: DeprecationWarning: Conversion of an array with ndim > 0 to a scalar is deprecated, and will error in future. Ensure you extract a single element from your array before performing this operation. (Deprecated NumPy 1.25.)\n",
      "  parameters['W1'][0][0] = parameters['W1'][0][0] + (0.001 * 2 * (y - y_hat)*parameters['W2'][0][0]*X[0][0])\n",
      "/var/folders/qx/720g_1z55gg_fwcvggbhs3_w0000gn/T/ipykernel_4628/332058445.py:7: DeprecationWarning: Conversion of an array with ndim > 0 to a scalar is deprecated, and will error in future. Ensure you extract a single element from your array before performing this operation. (Deprecated NumPy 1.25.)\n",
      "  parameters['W1'][0][1] = parameters['W1'][0][1] + (0.001 * 2 * (y - y_hat)*parameters['W2'][0][0]*X[1][0])\n",
      "/var/folders/qx/720g_1z55gg_fwcvggbhs3_w0000gn/T/ipykernel_4628/332058445.py:8: DeprecationWarning: Conversion of an array with ndim > 0 to a scalar is deprecated, and will error in future. Ensure you extract a single element from your array before performing this operation. (Deprecated NumPy 1.25.)\n",
      "  parameters['b1'][0][0] = parameters['b1'][0][0] + (0.001 * 2 * (y - y_hat)*parameters['W2'][0][0])\n",
      "/var/folders/qx/720g_1z55gg_fwcvggbhs3_w0000gn/T/ipykernel_4628/332058445.py:10: DeprecationWarning: Conversion of an array with ndim > 0 to a scalar is deprecated, and will error in future. Ensure you extract a single element from your array before performing this operation. (Deprecated NumPy 1.25.)\n",
      "  parameters['W1'][1][0] = parameters['W1'][1][0] + (0.001 * 2 * (y - y_hat)*parameters['W2'][1][0]*X[0][0])\n",
      "/var/folders/qx/720g_1z55gg_fwcvggbhs3_w0000gn/T/ipykernel_4628/332058445.py:11: DeprecationWarning: Conversion of an array with ndim > 0 to a scalar is deprecated, and will error in future. Ensure you extract a single element from your array before performing this operation. (Deprecated NumPy 1.25.)\n",
      "  parameters['W1'][1][1] = parameters['W1'][1][1] + (0.001 * 2 * (y - y_hat)*parameters['W2'][1][0]*X[1][0])\n",
      "/var/folders/qx/720g_1z55gg_fwcvggbhs3_w0000gn/T/ipykernel_4628/332058445.py:12: DeprecationWarning: Conversion of an array with ndim > 0 to a scalar is deprecated, and will error in future. Ensure you extract a single element from your array before performing this operation. (Deprecated NumPy 1.25.)\n",
      "  parameters['b1'][1][0] = parameters['b1'][1][0] + (0.001 * 2 * (y - y_hat)*parameters['W2'][1][0])\n"
     ]
    }
   ],
   "source": [
    "update_parameters(parameters,y,y_hat,A1,X)"
   ]
  },
  {
   "cell_type": "code",
   "execution_count": 47,
   "metadata": {},
   "outputs": [
    {
     "data": {
      "text/plain": [
       "{'W1': array([[0.26420074, 0.35286782],\n",
       "        [0.26785077, 0.36004351]]),\n",
       " 'b1': array([[0.02606678],\n",
       "        [0.02674339]]),\n",
       " 'W2': array([[0.40156541],\n",
       "        [0.4210365 ]]),\n",
       " 'b2': array([[0.42214391]])}"
      ]
     },
     "execution_count": 47,
     "metadata": {},
     "output_type": "execute_result"
    }
   ],
   "source": [
    "parameters"
   ]
  },
  {
   "cell_type": "code",
   "execution_count": 48,
   "metadata": {},
   "outputs": [
    {
     "data": {
      "text/plain": [
       "{'W1': array([[0.105888, 0.105888],\n",
       "        [0.105888, 0.105888]]),\n",
       " 'b1': array([[0.000736],\n",
       "        [0.000736]]),\n",
       " 'W2': array([[0.111776],\n",
       "        [0.111776]]),\n",
       " 'b2': array([[0.00736]])}"
      ]
     },
     "execution_count": 48,
     "metadata": {},
     "output_type": "execute_result"
    }
   ],
   "source": [
    "X = df[['cgpa', 'profile_score']].values[0].reshape(2,1) # Shape(no of features, no. of training example)\n",
    "y = df[['lpa']].values[0][0]\n",
    "\n",
    "# Parameter initialization\n",
    "parameters = initialize_parameters([2,2,1])\n",
    "\n",
    "y_hat,A1 = L_layer_forward(X,parameters)\n",
    "y_hat = y_hat[0][0]\n",
    "\n",
    "update_parameters(parameters,y,y_hat,A1,X)\n",
    "\n",
    "parameters"
   ]
  },
  {
   "cell_type": "code",
   "execution_count": 49,
   "metadata": {},
   "outputs": [
    {
     "data": {
      "text/plain": [
       "{'W1': array([[0.11310786, 0.11517068],\n",
       "        [0.11310786, 0.11517068]]),\n",
       " 'b1': array([[0.00176741],\n",
       "        [0.00176741]]),\n",
       " 'W2': array([[0.12741603],\n",
       "        [0.12741603]]),\n",
       " 'b2': array([[0.01658746]])}"
      ]
     },
     "execution_count": 49,
     "metadata": {},
     "output_type": "execute_result"
    }
   ],
   "source": [
    "X = df[['cgpa', 'profile_score']].values[1].reshape(2,1) # Shape(no of features, no. of training exaplme)\n",
    "y = df[['lpa']].values[1][0]\n",
    "\n",
    "y_hat,A1 = L_layer_forward(X,parameters)\n",
    "y_hat = y_hat[0][0]\n",
    "\n",
    "update_parameters(parameters,y,y_hat,A1,X)\n",
    "\n",
    "parameters"
   ]
  },
  {
   "cell_type": "code",
   "execution_count": 50,
   "metadata": {},
   "outputs": [
    {
     "data": {
      "text/plain": [
       "{'W1': array([[0.12116643, 0.1255317 ],\n",
       "        [0.12116643, 0.1255317 ]]),\n",
       " 'b1': array([[0.00291863],\n",
       "        [0.00291863]]),\n",
       " 'W2': array([[0.14378317],\n",
       "        [0.14408137]]),\n",
       " 'b2': array([[0.02562262]])}"
      ]
     },
     "execution_count": 50,
     "metadata": {},
     "output_type": "execute_result"
    }
   ],
   "source": [
    "X = df[['cgpa', 'profile_score']].values[1].reshape(2,1) # Shape(no of features, no. of training exaplme)\n",
    "y = df[['lpa']].values[1][0]\n",
    "\n",
    "y_hat,A1 = L_layer_forward(X,parameters)\n",
    "y_hat = y_hat[0][0]\n",
    "\n",
    "update_parameters(parameters,y,y_hat,A1,X)\n",
    "\n",
    "parameters"
   ]
  },
  {
   "cell_type": "code",
   "execution_count": 51,
   "metadata": {},
   "outputs": [
    {
     "name": "stdout",
     "output_type": "stream",
     "text": [
      "Loss at 0 is 17.414460925244423\n",
      "Loss at 1 is 16.70919806732515\n",
      "Loss at 2 is 15.890633443742137\n",
      "Loss at 3 is 14.959647748439489\n",
      "Loss at 4 is 13.93342845139755\n",
      "Loss at 5 is 12.847855922385634\n",
      "Loss at 6 is 11.753222237355335\n",
      "Loss at 7 is 10.702653543184963\n",
      "Loss at 8 is 9.738274250665228\n",
      "Loss at 9 is 8.882803354039435\n",
      "Loss at 10 is 8.140069466418147\n",
      "Loss at 11 is 7.501405363141174\n",
      "Loss at 12 is 6.952709507228312\n",
      "Loss at 13 is 6.479222237318521\n",
      "Loss at 14 is 6.0677846294080355\n",
      "Loss at 15 is 5.7074824376838755\n",
      "Loss at 16 is 5.389539302477606\n",
      "Loss at 17 is 5.1069652902330755\n",
      "Loss at 18 is 4.854185313841077\n",
      "Loss at 19 is 4.626722808369847\n",
      "Loss at 20 is 4.420951193402971\n",
      "Loss at 21 is 4.233904574297076\n",
      "Loss at 22 is 4.063134835273135\n",
      "Loss at 23 is 3.9066035487170523\n",
      "Loss at 24 is 3.7625996401393884\n",
      "Loss at 25 is 3.629676088015675\n",
      "Loss at 26 is 3.506600770577023\n",
      "Loss at 27 is 3.392317918168799\n",
      "Loss at 28 is 3.285917595012729\n",
      "Loss at 29 is 3.1866113215729763\n",
      "Loss at 30 is 3.0937124394222164\n",
      "Loss at 31 is 3.006620173244567\n",
      "Loss at 32 is 2.9248066004964857\n",
      "Loss at 33 is 2.847805926718888\n",
      "Loss at 34 is 2.7752056032305337\n",
      "Loss at 35 is 2.706638927614997\n",
      "Loss at 36 is 2.641778845628957\n",
      "Loss at 37 is 2.5803327326902448\n",
      "Loss at 38 is 2.5220379787948812\n",
      "Loss at 39 is 2.4666582360581044\n",
      "Loss at 40 is 2.413980215620784\n",
      "Loss at 41 is 2.3638109422807605\n",
      "Loss at 42 is 2.315975392286173\n",
      "Loss at 43 is 2.270314453302274\n",
      "Loss at 44 is 2.2266831564165783\n",
      "Loss at 45 is 2.184949138773192\n",
      "Loss at 46 is 2.144991302479782\n",
      "Loss at 47 is 2.1066986411594146\n",
      "Loss at 48 is 2.069969210195064\n",
      "Loss at 49 is 2.0347092205480006\n",
      "Loss at 50 is 2.0008322391877806\n",
      "Loss at 51 is 1.9682584817815747\n",
      "Loss at 52 is 1.9369141854571823\n",
      "Loss at 53 is 1.9067310512595412\n",
      "Loss at 54 is 1.8776457474304662\n",
      "Loss at 55 is 1.8495994659086088\n",
      "Loss at 56 is 1.822537525513753\n",
      "Loss at 57 is 1.7964090161810873\n",
      "Loss at 58 is 1.771166479375086\n",
      "Loss at 59 is 1.7467656204620368\n",
      "Loss at 60 is 1.7231650493738093\n",
      "Loss at 61 is 1.7003260463686931\n",
      "Loss at 62 is 1.6782123501007324\n",
      "Loss at 63 is 1.6567899655575664\n",
      "Loss at 64 is 1.6360269897270867\n",
      "Loss at 65 is 1.6158934531125813\n",
      "Loss at 66 is 1.5963611754405562\n",
      "Loss at 67 is 1.5774036341002178\n",
      "Loss at 68 is 1.5589958440230005\n",
      "Loss at 69 is 1.541114247858137\n",
      "Loss at 70 is 1.523736615429166\n",
      "Loss at 71 is 1.5068419515690632\n",
      "Loss at 72 is 1.4904104115305676\n",
      "Loss at 73 is 1.4744232232551304\n",
      "Loss at 74 is 1.4588626158603486\n"
     ]
    }
   ],
   "source": [
    "epochs = 75\n",
    "\n",
    "loss = []\n",
    "\n",
    "parameters = initialize_parameters([2,2,1])\n",
    "\n",
    "for i in range(epochs):\n",
    "    for j in range(X.shape[0]):\n",
    "        X = df[['cgpa', 'profile_score']].values[j].reshape(2,1) \n",
    "        y = df[['lpa']].values[j][0]\n",
    "\n",
    "        y_hat,A1 = L_layer_forward(X,parameters)\n",
    "        y_hat = y_hat[0][0]\n",
    "\n",
    "        update_parameters(parameters,y,y_hat,A1,X)\n",
    "        loss.append((y-y_hat)**2)\n",
    "    print(\"Loss at \"+str(i)+\" is \" + str(np.mean(loss)))\n",
    "        "
   ]
  },
  {
   "cell_type": "code",
   "execution_count": 52,
   "metadata": {},
   "outputs": [
    {
     "data": {
      "text/plain": [
       "{'W1': array([[0.26673125, 0.35860032],\n",
       "        [0.26914371, 0.36455483]]),\n",
       " 'b1': array([[0.02658322],\n",
       "        [0.02710616]]),\n",
       " 'W2': array([[0.42544202],\n",
       "        [0.44686041]]),\n",
       " 'b2': array([[0.11899605]])}"
      ]
     },
     "execution_count": 52,
     "metadata": {},
     "output_type": "execute_result"
    }
   ],
   "source": [
    "parameters"
   ]
  },
  {
   "cell_type": "code",
   "execution_count": 53,
   "metadata": {},
   "outputs": [
    {
     "data": {
      "text/plain": [
       "(array([[4.55148341]]), 4)"
      ]
     },
     "execution_count": 53,
     "metadata": {},
     "output_type": "execute_result"
    }
   ],
   "source": [
    "X = df[['cgpa', 'profile_score']].values[0].reshape(2,1) # Shape(no of features, no. of training example)\n",
    "y = df[['lpa']].values[0][0]\n",
    "y_hat,A1 = L_layer_forward(X,parameters)\n",
    "y_hat,y"
   ]
  }
 ],
 "metadata": {
  "kernelspec": {
   "display_name": "venv",
   "language": "python",
   "name": "venv"
  },
  "language_info": {
   "codemirror_mode": {
    "name": "ipython",
    "version": 3
   },
   "file_extension": ".py",
   "mimetype": "text/x-python",
   "name": "python",
   "nbconvert_exporter": "python",
   "pygments_lexer": "ipython3",
   "version": "3.12.7"
  }
 },
 "nbformat": 4,
 "nbformat_minor": 2
}
